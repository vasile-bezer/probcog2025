{
 "cells": [
  {
   "cell_type": "markdown",
   "metadata": {},
   "source": [
    "University of Helsinki, Master's Programme in Data Science  \n",
    "DATA20047 Probabilistic Cognitive Modelling - Spring 2025  \n",
    "Luigi Acerbi  \n",
    "\n",
    "# Problem Set 4: Combining inference with utility, and everything\n",
    "\n",
    "- This homework problem set focuses on **Week 7** of the course, plus a recap of everything we have done in the course.\n",
    "- This problem set is worth **30 points** in total (out of 100 for the full course).\n",
    "- Check the submission deadline on Moodle! **Note that the deadline is just before midnight.**\n",
    "\n",
    "\n",
    "## Submission instructions\n",
    "\n",
    "Submission must be perfomed entirely on Moodle (**not** by email).\n",
    "1. When you have completed the exercises, save the notebook.\n",
    "2. Report your solutions and answers on Moodle (\"*Problem set 4 answer return*\").\n",
    "3. Submit two files on Moodle (\"*Problem set 4 notebook return*\"): \n",
    "  - The notebook as `.ipynb`.\n",
    "  - The same notebook downloaded as `.pdf.\n",
    "\n",
    "#### How to save the notebook as PDF\n",
    "\n",
    "There are various ways to save the Jupyter notebook as PDF, depending on the version of Jupyter notebook you have.\n",
    "\n",
    "- In older versions, you should be able to select \"File\" > \"Print Preview\" and then print the page to PDF using your browser (remember to enter the Print Preview first).\n",
    "- In more recent versions, you can select \"File\" > \"Save and Export Notebook As\" > \"PDF\".\n",
    "  * For this to work, you may need to install [Pandoc](https://pandoc.org/installing.html) first.\n",
    "  * Compiling to PDF might take a while.\n",
    "\n",
    "## IMPORTANT\n",
    "\n",
    "1. Do not share your code and answers with others. Contrary to the class exercises, which you can do with others, these problems are *not* group work and must be done individually.\n",
    "2. It is allowed to use snippets of code from the lecture exercises and model solutions.\n",
    "3. It is your responsibility to ensure that the notebook has fully finished running all the cells, all the plots view properly etc. before submitting it. However, the notebook should be runnable from scratch if needed (\"Kernel > Restart & Run All\").\n",
    "4. Submit your work by the deadline.\n",
    "5. Unless stated otherwise, please report your numerical answers in Moodle with full numerical precision (~14-15 digits), unless the answer is an integer.\n",
    "6. If you are confused, think there is a mistake or find things too difficult, please ask on Moodle.\n",
    "\n",
    "## References\n",
    "\n",
    "- \\[**MKG23**\\] Ma WJ, Körding K, and Goldreich D. \"Bayesian Models of Perception and Action: An Introduction\". MIT Press, 2023.\n",
    "- \\[**AWV12**\\] Acerbi L, Wolpert DM, Vijayakumar S. \"Internal Representations of Temporal Statistics and Feedback Calibrate Motor-Sensory Interval Timing\". *PLoS Computational Biology*, 2012. [Link](https://journals.plos.org/ploscompbiol/article?id=10.1371/journal.pcbi.1002771)"
   ]
  },
  {
   "cell_type": "code",
   "execution_count": 1,
   "metadata": {},
   "outputs": [],
   "source": [
    "# set-up -- do not change\n",
    "import numpy as np\n",
    "import numpy.random as npr\n",
    "import scipy as sp\n",
    "import scipy.stats as sps\n",
    "import pandas as pd\n",
    "import matplotlib.pyplot as plt\n",
    "npr.seed(1)"
   ]
  },
  {
   "cell_type": "markdown",
   "metadata": {},
   "source": [
    "# Question 4.1 (6 pts)\n",
    "\n",
    "> In this question, we will look at the optimal aim location when playing a modified game of darts.\n",
    "\n",
    "Assume you are playing a game of darts, that is you need to throw a dart at a target a couple of meters away from you. For simplicity, we assume this is a modified version of the game in which the target board comprises of a series of vertical bands, so that only the horizontal landing location of the dart matters. Landing the dart on each different sector is associated with a different score.\n",
    "\n",
    "We measure horizontal location starting from the center of the dart board ($0$ cm), with negative numbers meaning a position to the left of the center and positive numbers a position to the right of the center. We ignore the vertical position, assuming the bands are tall enough to be easy to hit on the vertical axis.\n",
    "\n",
    "The sectors are characterized by their bounds on the board (start and end location) and their score, as follows:\n",
    "\n",
    "- -25 to -15 cm: 15 points.\n",
    "- -15 to -5 cm: 10 points.\n",
    "- -5 to 5 cm: 20 points.\n",
    "- 5 to 15 cm: 5 points.\n",
    "- 15 to 25 cm: 25 points.\n",
    "\n",
    "If the dart lands outside the board, you would get 0 points.\n",
    "\n",
    "Given the aim location $\\hat{s}$, we assume that due to motor noise, the actual *hit* location $r$ (where the dart actually lands) is distributed as follows:\n",
    "$$\n",
    "p(r|\\hat{s}) = (1-\\lambda) \\mathcal{N}\\left(r; \\hat{s},\\sigma^2_\\text{motor}\\right) + \\lambda \\mathcal{N}\\left(r; \\hat{s},\\sigma^2_\\text{lapse}\\right),\n",
    "$$\n",
    "where $\\sigma_\\text{motor}$ is the standard spread location due to motor error and throwing variability. The novelty of this equation is that we also consider a probability $\\lambda \\in [0, 1]$ of lapsing (e.g., sneezing or being distracted by a friend while throwing), which produces a bad throw with a larger error $\\sigma_\\text{lapse}$. For this exercise, we assume $\\sigma_\\text{lapse} = 20$ cm.\n",
    "\n",
    "Write a function that computes the expected score as a function of aim location $\\hat{s}$ and task parameters $\\left(\\sigma_\\text{motor}, \\lambda, \\sigma_\\text{lapse}\\right)$. Then, write a function that for given task parameters $\\left(\\sigma_\\text{motor}, \\lambda, \\sigma_\\text{lapse}\\right)$, returns the optimal aim location $s^\\star$ (the aim point which produces the maximum expected score).\n",
    "\n",
    "- a) For $\\sigma_\\text{motor} \\in [2, 10]$ cm and $\\lambda \\in [0, 0.2]$, what are the rightmost (maximum) and leftmost (minimum) locations for $s^\\star$?\n",
    "- b) For $\\lambda = 0.1$, plot $s^\\star$ as a function of $\\sigma_\\text{motor}$, for $\\sigma_\\text{motor} \\in [2, 10]$ cm. You should see an interesting switch of optimal strategy. Around which value of $\\sigma_\\text{motor}$ the optimal strategy switches and it becomes more convenient to throw the dart to the left of the center as opposed to the right of the center?"
   ]
  },
  {
   "cell_type": "code",
   "execution_count": 2,
   "metadata": {},
   "outputs": [
    {
     "data": {
      "image/png": "[encoded data removed]",
      "text/plain": [
       "<Figure size 640x480 with 1 Axes>"
      ]
     },
     "metadata": {},
     "output_type": "display_data"
    }
   ],
   "source": [
    "bands = [-np.inf,-25,-15,-5,5,15,25,np.inf]\n",
    "scores = [0,15,10,20,5,25,0]\n",
    "\n",
    "# Plot target score\n",
    "\n",
    "s = np.linspace(-30,30,200)\n",
    "for index, band in enumerate(scores):\n",
    "    a = np.maximum(bands[index], -40)\n",
    "    b = np.minimum(bands[index+1], 40)\n",
    "    plt.plot((a,a,b,b),np.array((0,scores[index],scores[index],0)))\n",
    "\n",
    "plt.xlabel('r (cm)')\n",
    "plt.ylabel('score (points)')\n",
    "plt.title('Target score based on landing point')\n",
    "plt.show()"
   ]
  },
  {
   "cell_type": "code",
   "execution_count": null,
   "metadata": {},
   "outputs": [
    {
     "name": "stdout",
     "output_type": "stream",
     "text": [
      "minimum s_star: -1.9769769769769745\n",
      "maximum s_star: 19.894894894894897\n"
     ]
    },
    {
     "data": {
      "image/png": "[encoded data removed]",
      "text/plain": [
       "<Figure size 640x480 with 1 Axes>"
      ]
     },
     "metadata": {},
     "output_type": "display_data"
    },
    {
     "name": "stdout",
     "output_type": "stream",
     "text": [
      "strategy switches at sigma_motor ≈ 7.077077077077077\n"
     ]
    }
   ],
   "source": [
    "sigma_lapse = 20\n",
    "\n",
    "def get_score(r):\n",
    "\taux = np.zeros_like(r)\n",
    "\tfor index, band in enumerate(scores):\n",
    "\t\taux[(r >= bands[index]) & (r <= bands[index + 1])] = scores[index]\n",
    "\treturn aux\n",
    "\n",
    "def expected_score(s_hat, sigma_motor, lambda_param):\n",
    "    Nr = 2**10+1\n",
    "    lower_bound = -30\n",
    "    upper_bound = 30\n",
    "    r = np.linspace(lower_bound, upper_bound, Nr)\n",
    "    scores = get_score(r)\n",
    "    \n",
    "    posterior = (1 - lambda_param) * sps.norm.pdf(r.reshape(-1, 1), s_hat, sigma_motor) + \\\n",
    "          lambda_param * sps.norm.pdf(r.reshape(-1, 1), s_hat, sigma_lapse)\n",
    "    \n",
    "    dx = r[1] - r[0]\n",
    "    return sp.integrate.romb(scores.reshape(-1, 1) * posterior, dx=dx, axis=0)\n",
    "\n",
    "def find_optimal_aim(sigma_motor, lambda_param):\n",
    "    aim_points = np.linspace(-25, 25, 1000)\n",
    "    scores = expected_score(aim_points, sigma_motor, lambda_param)\n",
    "    return aim_points[np.argmax(scores)]\n",
    "\n",
    "sigma_motor_range = np.linspace(2, 10, 500)\n",
    "lambda_range = np.linspace(0, 0.2, 5)\n",
    "\n",
    "optimal_aim_range = np.array([find_optimal_aim(sigma, lambda_) for sigma in sigma_motor_range for lambda_ in lambda_range])\n",
    "min_s_star = np.min(optimal_aim_range)\n",
    "max_s_star = np.max(optimal_aim_range)\n",
    "print(f\"minimum s_star: {min_s_star}\")\n",
    "print(f\"maximum s_star: {max_s_star}\")\n",
    "\n",
    "lambda_fixed = 0.1\n",
    "s_star_values = np.array([find_optimal_aim(sigma, lambda_fixed) for sigma in sigma_motor_range])\n",
    "\n",
    "plt.plot(sigma_motor_range, s_star_values)\n",
    "plt.xlabel(\"sigma_motor\")\n",
    "plt.ylabel(\"s_star\")\n",
    "plt.title(\"s_star vs sigma_motor (lambda_fixed = 0.1)\")\n",
    "plt.grid()\n",
    "plt.show()\n",
    "\n",
    "switch_index = np.where(np.diff(np.sign(s_star_values)))[0]\n",
    "if switch_index.size > 0:\n",
    "    switch_value = sigma_motor_range[switch_index[0]]\n",
    "    print(f\"strategy switches at sigma_motor ≈ {switch_value}\")\n"
   ]
  },
  {
   "cell_type": "markdown",
   "metadata": {},
   "source": [
    "# Question 4.2 (6 pts)\n",
    "\n",
    "> In this question, we will infer the empirical loss function of an observer in a task based on their responses.\n",
    "\n",
    "In each trial of this experiment, the participant is shown a cloud of dots on a screen. The horizontal location of each dot is drawn from the following mixture distribution:\n",
    "  $$\n",
    "  p(s; h) = 0.8 \\mathcal{N}\\left(s; 0, 0.2^2\\right) + 0.2 \\mathcal{N}\\left(s; h, 0.2^2\\right)\n",
    "  $$\n",
    "  where $h$ is a parameter controlled by the experimenter, and is changed from trial to trial. The horizontal location is measured in normalized screen units $s \\in [-1, 1]$, where $0$ is the center of the screen. \n",
    "- Along the vertical axis, the dots show a small jitter along the center of the screen (we ignore the vertical displacement).\n",
    "- In each trial, the subject is asked to report the horizontal position of the *center* of the cloud of dots. The word \"center\" is ambiguous, as we could be asking for the mean, the median, or other [measures of central tendency](https://en.wikipedia.org/wiki/Central_tendency). The question is what the subject would naturally report. We assume the subject reports the estimate $\\hat{s}$ that minimizes their expected loss. \n",
    "- For the purpose of this question, we also assume that the observer's loss function takes the parametric form\n",
    "  $$\n",
    "  \\mathcal{L}_\\alpha\\left(s^\\prime, s \\right) = \\left| s^\\prime - s \\right|^\\alpha\n",
    "  $$\n",
    "  which is the loss for reporting $s^\\prime$ for a dot position $s$. \n",
    "- In each trial, the expected loss is the expectation of the loss over the presented dot locations, $p(s; h)$.\n",
    "- A sequence of trials is thus represented by the trial design (the presented distribution of dots, parameterized by $h_t$) and the observer's responses $\\hat{s}_t$ in each trial $t$.\n",
    "- For simplicity, here we assume that there is no response noise.\n",
    "\n",
    "------------------\n",
    "\n",
    "- a) First, as a sanity check, compute the *expected loss* assuming $\\alpha = 1$, a fixed value of $h = 0.3$ and a candidate estimate $s^\\prime = 0.5$. In formulas:\n",
    "$$\n",
    "\\mathbb{E}\\left[ \\mathcal{L}_\\alpha\\left(s^\\prime, s \\right) \\right] = \\int p(s; h) \\mathcal{L}_\\alpha\\left(s^\\prime, s \\right) ds\n",
    "$$\n",
    "  where you should replace the pdf and the loss with the definitions provided in the text of the exercise.\n",
    "  Report the expected loss for this specific case in Moodle.\n",
    "- b) Now, as a further sanity check, for same case $\\alpha = 1$ and $h = 0.3$, report the *optimal estimate*, that is the estimate $s^\\star$ that minimizes the expected loss. In formulas:\n",
    "$$\n",
    "s^\\star = \\arg\\min_{s^\\prime} \\mathbb{E}\\left[ \\mathcal{L}_\\alpha\\left(s^\\prime, s \\right) \\right]\n",
    "$$\n",
    "  Report the optimal estimate for this specific case in Moodle.\n",
    "- c) Given the data reported below, infer the exponent $\\alpha \\ge 0$ of the loss function that best describes the subject behavior. Do so by finding the $\\alpha$ that minimizes the total squared error between the model predictions (assuming the observer follows Bayesian decision theory) and the data, summed over trials. Report the best estimate for $\\alpha$ in Moodle (error tolerance $\\pm 0.1$).\n",
    "\n",
    "*Notes*: \n",
    "- Assume that the horizontal location $s \\in [-1, 1]$ (i.e., within the width of the screen).\n",
    "- In real data, the observer's responses would be corrupted by decision and motor noise, which would make inferring the loss function still more complex. For example, it would be better to use Bayesian inference to infer a posterior over $\\alpha$, as opposed to a point estimate. Still, the logic would be the same."
   ]
  },
  {
   "cell_type": "code",
   "execution_count": 16,
   "metadata": {},
   "outputs": [],
   "source": [
    "# For part c - trial parameters h_t and subject's responses s_hat_t\n",
    "\n",
    "h_t = np.array([-0.0663824 ,  0.17625959, -0.3999085 , -0.15813394, -0.28259529,\n",
    "       -0.32612912, -0.25099183, -0.12355142, -0.08258602,  0.03105339,\n",
    "       -0.06464439,  0.1481756 , -0.2364382 ,  0.30249395, -0.37808993,\n",
    "        0.13637401, -0.06615616,  0.04695186, -0.28769045, -0.24151881])\n",
    "s_hat_t = np.array([-0.0125   ,  0.034375 , -0.0734375, -0.03125  , -0.0546875,\n",
    "       -0.0609375, -0.0484375, -0.025    , -0.0171875,  0.00625  ,\n",
    "       -0.0125   ,  0.0296875, -0.0453125,  0.0578125, -0.0703125,\n",
    "        0.0265625, -0.0125   ,  0.009375 , -0.0546875, -0.046875 ])"
   ]
  },
  {
   "cell_type": "code",
   "execution_count": 22,
   "metadata": {},
   "outputs": [
    {
     "name": "stdout",
     "output_type": "stream",
     "text": [
      "part a)\n",
      "[0.44728048]\n",
      "part b)\n",
      "0.05029296875\n",
      "part c)\n",
      "best estimated alpha: 1.696969696969697\n"
     ]
    }
   ],
   "source": [
    "Ns = 2**12+1\n",
    "lower_bound = -1\n",
    "upper_bound = 1\n",
    "s_grid = np.linspace(start = lower_bound, stop = upper_bound, num = Ns)\n",
    "s_prime_grid = np.linspace(start = lower_bound, stop = upper_bound, num = Ns)\n",
    "\n",
    "h = 0.3\n",
    "s_prime_fixed = 0.5\n",
    "alpha = 1\n",
    "\n",
    "\n",
    "def loss_function(s_prime, s, alpha):\n",
    "\ts_prime = np.atleast_1d(s_prime)[:, np.newaxis]  # Convert s_prime to a column vector\n",
    "\ts = np.asarray(s)\n",
    "\treturn np.abs(s_prime - s) ** alpha\n",
    "\n",
    "def expected_loss(s_prime, s, h, alpha):\n",
    "\tprior = 0.8 * sps.norm.pdf(s, 0, 0.2) + 0.2 * sps.norm.pdf(s, h, 0.2)\n",
    "\tintegrand = loss_function(s_prime = s_prime, s = s, alpha = alpha) * prior\n",
    "\tds = s.flatten()[1] - s.flatten()[0]\n",
    "\treturn sp.integrate.romb(integrand, dx = ds)\n",
    "\n",
    "def optimal_estimate(s_candidates, h, alpha):\n",
    "\tlosses = expected_loss(s_prime_grid, s_grid, h, alpha)\n",
    "\treturn s_candidates[np.argmin(losses)] \n",
    "\n",
    "alpha_candidates = np.linspace(0, 2, 100)\n",
    "errors = []\n",
    "\n",
    "print(\"part a)\")\n",
    "print(expected_loss(s_prime_fixed, s_grid, h = 0.3, alpha = 1))\n",
    "\n",
    "print(\"part b)\")\n",
    "print(s_grid[ np.argmin(expected_loss(s_prime_grid, s_grid, h, alpha)) ])\n",
    "\n",
    "for alpha in alpha_candidates:\n",
    "\ts_star_values = np.array([optimal_estimate(s_prime_grid, h, alpha) for h in h_t])\n",
    "\terror = np.sum((s_star_values - s_hat_t) ** 2)\n",
    "\terrors.append(error)\n",
    "\n",
    "print(\"part c)\")\n",
    "best_alpha = alpha_candidates[np.argmin(errors)]\n",
    "print(f\"best estimated alpha: {best_alpha}\")"
   ]
  },
  {
   "cell_type": "markdown",
   "metadata": {},
   "source": [
    "# Question 4.3 (18 pts)\n",
    "\n",
    "> For this question, which amounts to a small modelling and model fitting project, we will put together several topics seen in the course. Using the data of the sensorimotor timing experiment \\[**AWV12**\\] that we encountered several times in this course, we will use a Bayesian observer model to recover the observer's prior from their responses.\n",
    "\n",
    "We analyze the data with the `gaussianmixobserverwithlapse` model, defines as follows:\n",
    "\n",
    "- We assume the observer builds a (mismatched) Gaussian prior with two components:\n",
    "  $$p(s) = w_\\text{prior} \\mathcal{N}\\left(s| \\mu_{\\text{prior}}, \\sigma_{\\text{prior}, 1}^2 \\right) + \n",
    "  \\left(1 - w_\\text{prior} \\right)\\mathcal{N}\\left(s| \\mu_{\\text{prior}}, \\sigma_{\\text{prior}, 2}^2 \\right)$$ \n",
    "  over the stimuli (time intervals). We assume the two components have the same mean $\\mu_\\text{prior}$, but different weights ($w_\\text{prior}$ and $1 - w_\\text{prior}$) and standard deviations ($\\sigma_{\\text{prior}, 1}$ and $\\sigma_{\\text{prior}, 2}$).\n",
    "- We assume that the measurement distribution and likelihood are also Gaussian, $p(x|s) = \\mathcal{N}\\left(x| s, \\sigma^2 \\right)$.\n",
    "- The observer uses the *posterior mean* estimator for the value of the stimulus, $\\hat{s}_\\text{PM}$.\n",
    "- Gaussian motor response noise is added to the estimate, $p(r|\\hat{s}) = \\mathcal{N}\\left(r| \\hat{s}, \\sigma_\\text{motor}^2 \\right)$. For this exercise, we assume that $\\sigma_\\text{motor} = 70$ ms for all subjects.\n",
    "- In each trial, the observer lapses with probability $\\lambda$ (the *lapse rate*), in which case the response is drawn from $p_\\text{lapse}(r) = \\text{Uniform}\\left(r; 0, 1500 \\right)$ ms. Otherwise, the observer responds normally (according to $p(r|\\hat{s})$ described above) with probability $1 - \\lambda$. \n",
    "- The free parameters of this model are $\\mathbf{\\theta} = \\left(\\sigma, \\lambda, w_\\text{prior}, \\mu_\\text{prior}, \\sigma_{\\text{prior}, 1}, \\sigma_{\\text{prior}, 2} \\right)$.\n",
    "\n",
    "Note that the parameters $w_\\text{prior}, \\mu_\\text{prior}, \\sigma_{\\text{prior}, 1}, \\sigma_{\\text{prior,2}}$ model the subject's prior. In other words, we can use the estimates of these parameters to visualize what the subject's prior might look like.\n",
    "\n",
    "-----------------------------------------------\n",
    "\n",
    "For this analysis, we will separately consider all subjects, but for all subjects' datasets we will discard the first session, to ensure that subjects have achieved enough training in the task. We provide below example code that retrieves the stimuli $\\mathbf{s}$ and responses $\\mathbf{r}$ for a subject, withouth the first session.\n",
    "\n",
    "- a) As a sanity check, compute the log-likelihood of model parameter $\\theta_\\star = \\left(\\sigma = 100, \\lambda = 0.01, w_\\text{prior} = 0.5, \\mu_\\text{prior} = 787, \\sigma_{\\text{prior}, 1} = 100, \\sigma_{\\text{prior}, 2} = 120 \\right)$ for the dataset of subject 5 (having removed the first session) and report the result in Moodle.\n",
    "- b) Separately fit the `gaussianmixobserverwithlapse` model to all the six subjects' datasets (removing the first session from all data) via maximum-likelihood estimation. For each subject, report the maximum log-likelihood value in Moodle.\n",
    "- c) Consider now the `idealgaussianobserverwithlapse` observer model. The `idealgaussianobserverwithlapse` is the same as the model above with the difference that the observer's prior is a single Gaussian $p(s) = \\mathcal{N}\\left(s | \\mu_\\text{prior}, \\sigma^2_\\text{prior} \\right)$ with $\\mu_\\text{prior} = 787.5$ ms and $\\sigma_{\\text{prior}} = 128.1$ ms. As above, we fix $\\sigma_\\text{motor} = 70$ ms. The `idealgaussianobserverwithlapse`  model has two free parameters, $\\theta = \\left(\\sigma, \\lambda \\right)$. As a sanity check, compute the log-likelihood of model parameter $\\theta_\\star = \\left(\\sigma = 100, \\lambda = 0.01\\right)$ for the dataset of subject 5 (having removed the first session) and report the result in Moodle.\n",
    "- d) Separately fit the `idealgaussianobserverwithlapse` model to all the six subjects' datasets (removing the first session from all data) via maximum-likelihood estimation.  For each dataset, separately compute the AIC and BIC for the two models `gaussianmixobserverwithlapse` and `idealgaussianobserverwithlapse`. Sum the AIC and BIC values across subjects to find the sum AIC (or BIC) of the two models. Report the summed AIC (and BIC) for the two models separately in Moodle.\n",
    "- e) Which model is best, according to the metrics, and why do you think it is the case? Discuss your findings (max 300 words).\n",
    "\n",
    "*Hints*:\n",
    "- Both in parts (a) and (c), the log-likelihoods that you find should be between $-6000$ and $-5800$.\n",
    "- There is an analytical solution for the posterior (and $\\hat{s}_\\text{PM}$), but there is no analytical solution for the response distribution $p(r|s)$, so you will need to use numerical integration at least to compute the response distribution.\n",
    "- Finding the maximum-likelihood solution can be difficult as the optimization landscape is nontrivial. As a sanity check, verify that your solutions are consistent across different runs. If not, you might need to run additional optimization runs to increase the chance of finding the global optimum - possibly of the order of ten or even more.\n",
    "- Beware that running multiple optimizations for all subjects will take quite some time (easily 30-60 minutes overall, possibly more - depending on your code, your computer, and how many runs you do). Model fitting is time consuming!\n",
    "- Remember that you can ask questions in the Moodle discussion forum if you need further hints.\n",
    "- For this problem, you are given unlimited attempts in Moodle."
   ]
  },
  {
   "cell_type": "code",
   "execution_count": 78,
   "metadata": {},
   "outputs": [],
   "source": [
    "import numpy as np\n",
    "import numpy.random as npr\n",
    "import scipy as sp\n",
    "import scipy.stats as sps\n",
    "import pandas as pd\n",
    "import matplotlib.pyplot as plt\n",
    "\n",
    "# Load data of Experiment 3 of [AWV12] from .csv file to a Pandas dataframe\n",
    "df = pd.read_csv('https://raw.githubusercontent.com/lacerbi/prob-cog-mod-files/main/data/awv12_exp3.csv')\n",
    "\n",
    "# Remove unused columns\n",
    "df.drop(df.columns[[6, 7, 8]], axis=1, inplace=True)\n",
    "\n",
    "# Remove rows with NaNs\n",
    "df.dropna(axis=0, inplace=True)\n",
    "\n",
    "# Example code to take the data of subject 1, excluding the first session\n",
    "subject = 1\n",
    "s = np.array(df['Stimulus (ms)'][(df['Subject id'] == subject) & (df['Session id'] > 1)])\n",
    "r = np.array(df['Response (ms)'][(df['Subject id'] == subject) & (df['Session id'] > 1)])"
   ]
  },
  {
   "cell_type": "code",
   "execution_count": 79,
   "metadata": {},
   "outputs": [],
   "source": [
    "sigma_motor = 70\n",
    "\n",
    "def gaussian_response(s,theta):\n",
    "\t\"\"\"Compute mean and standard deviation of p(r|s; theta).\"\"\"\n",
    "\t# Unpack parameter vector theta\n",
    "\tmu_prior = theta[0]\n",
    "\tsigma_prior = theta[1]\n",
    "\tsigma = theta[2]\n",
    "\tsigma_motor = theta[3]\n",
    "\t# Compute mean and std of the response\n",
    "\tw = sigma_prior**2/(sigma_prior**2 + sigma**2)    \n",
    "\tmu_resp = w*s + (1-w)*mu_prior\n",
    "\tsigma_resp = np.sqrt(w**2*sigma**2 + sigma_motor**2)\n",
    "\treturn mu_resp, sigma_resp\n",
    "\n",
    "def posterior_mean(x, sigma, mu_s, sigma_s1, sigma_s2, w_s):\n",
    "\tL1 = w_s * sps.norm.pdf(x, mu_s, np.sqrt( sigma**2 + sigma_s1**2 ))\n",
    "\tL2 = ( 1 - w_s ) * sps.norm.pdf(x, mu_s, np.sqrt( sigma**2 + sigma_s2**2 ))\n",
    "\n",
    "\tmu_post_1, _ = gaussian_response(x, (mu_s, sigma_s1, sigma, 0))\n",
    "\tmu_post_2, _ = gaussian_response(x, (mu_s, sigma_s2, sigma, 0))\n",
    "\n",
    "\treturn (L1 / (L1 + L2)) * mu_post_1 + (L2 / (L1 + L2)) * mu_post_2\n",
    "\n",
    "def log_likelihood(theta, data):\n",
    "\ts = data[:, 0]\n",
    "\tr = data[:, 1]\n",
    "\tsigma, lapse, w_s, mu_s, sigma_s1, sigma_s2 = theta\n",
    "\tNx = 2 ** 10 + 1\n",
    "\tlower_bound = s.min() - 5 * sigma\n",
    "\tupper_bound = s.max() + 5 * sigma\n",
    "\tx_grid = np.linspace(lower_bound, upper_bound, Nx)\n",
    "\tdx = x_grid[1].flatten() - x_grid[0].flatten()\n",
    "\t\n",
    "\tintegral = sp.integrate.romb(\n",
    "\t\tsps.norm.pdf(\n",
    "\t\t\t\tx_grid\n",
    "\t\t\t\t,s.reshape(-1, 1)\n",
    "\t\t\t\t,sigma\n",
    "\t\t\t) * sps.norm.pdf(\n",
    "\t\t\t\tr.reshape(-1, 1)\n",
    "\t\t\t\t,posterior_mean(x_grid, sigma, mu_s, sigma_s1, sigma_s2, w_s)\n",
    "\t\t\t\t,sigma_motor\n",
    "\t\t), dx=dx)\n",
    "\t\n",
    "\tlikelihoods = (1 - lapse) * integral + lapse * (1 / 1500)\n",
    "\treturn np.sum(np.log(likelihoods))"
   ]
  },
  {
   "cell_type": "code",
   "execution_count": 80,
   "metadata": {},
   "outputs": [
    {
     "name": "stdout",
     "output_type": "stream",
     "text": [
      "part a)\n",
      "sanity check subject 5 log likelihood: -5971.377804064764\n"
     ]
    }
   ],
   "source": [
    "subject = 5\n",
    "s = np.array(df['Stimulus (ms)'][(df['Subject id'] == subject) & (df['Session id'] > 1)])\n",
    "r = np.array(df['Response (ms)'][(df['Subject id'] == subject) & (df['Session id'] > 1)])\n",
    "\n",
    "print(\"part a)\")\n",
    "result = log_likelihood((100, 0.01, 0.5, 787, 100, 120), np.column_stack((s, r)))\n",
    "print(\"sanity check subject 5 log likelihood:\", result)"
   ]
  },
  {
   "cell_type": "code",
   "execution_count": 81,
   "metadata": {},
   "outputs": [],
   "source": [
    "try: \n",
    "    from pybads.bads import BADS\n",
    "    method = 'BADS'\n",
    "except:\n",
    "    method = 'L-BFGS-B'"
   ]
  },
  {
   "cell_type": "code",
   "execution_count": 82,
   "metadata": {},
   "outputs": [],
   "source": [
    "np.set_printoptions(suppress=True)"
   ]
  },
  {
   "cell_type": "code",
   "execution_count": 83,
   "metadata": {},
   "outputs": [],
   "source": [
    "aic_list = list()\n",
    "bic_list = list()"
   ]
  },
  {
   "cell_type": "code",
   "execution_count": 84,
   "metadata": {},
   "outputs": [
    {
     "name": "stdout",
     "output_type": "stream",
     "text": [
      "part b)\n",
      "Run 0: log-likelihood -11519.76822570033\n",
      "Run 1: log-likelihood -11517.806991192938\n"
     ]
    },
    {
     "name": "stderr",
     "output_type": "stream",
     "text": [
      "/tmp/ipykernel_4013008/1309567271.py:47: RuntimeWarning: divide by zero encountered in log\n",
      "  return np.sum(np.log(likelihoods))\n",
      "/home/percy/.local/lib/python3.10/site-packages/scipy/optimize/_numdiff.py:576: RuntimeWarning: invalid value encountered in subtract\n",
      "  df = fun(x) - f0\n"
     ]
    },
    {
     "name": "stdout",
     "output_type": "stream",
     "text": [
      "Run 2: log-likelihood -11949.408593987384\n",
      "The maximum-likelihood solution for subject 1  is theta_ML = [ 26.42351466   0.           0.99999945 784.49091794  30.14514513\n",
      " 141.51852176] with log-likelihood: -11517.806991192938\n",
      "Run 0: log-likelihood -5569.101435136236\n",
      "Run 1: log-likelihood -5674.2149195975635\n",
      "Run 2: log-likelihood -5545.126653382152\n",
      "The maximum-likelihood solution for subject 2  is theta_ML = [ 19.04207428   0.           1.         747.5572154   32.71277122\n",
      " 124.75943311] with log-likelihood: -5545.126653382152\n",
      "Run 0: log-likelihood -6131.2615537862985\n",
      "Run 1: log-likelihood -6121.791119026813\n",
      "Run 2: log-likelihood -6119.781988684902\n",
      "The maximum-likelihood solution for subject 3  is theta_ML = [103.72088193   0.00609206   0.51482556 744.05058406 203.54206234\n",
      "  48.29926865] with log-likelihood: -6119.781988684902\n",
      "Run 0: log-likelihood -6003.726797615023\n",
      "Run 1: log-likelihood -5990.765087062951\n",
      "Run 2: log-likelihood -5990.804842090428\n",
      "The maximum-likelihood solution for subject 4  is theta_ML = [144.26676151   0.           0.90901974 715.21454834 104.00850329\n",
      " 220.05293045] with log-likelihood: -5990.765087062951\n"
     ]
    },
    {
     "name": "stderr",
     "output_type": "stream",
     "text": [
      "/tmp/ipykernel_4013008/1309567271.py:23: RuntimeWarning: invalid value encountered in divide\n",
      "  return (L1 / (L1 + L2)) * mu_post_1 + (L2 / (L1 + L2)) * mu_post_2\n"
     ]
    },
    {
     "name": "stdout",
     "output_type": "stream",
     "text": [
      "Run 0: log-likelihood -5913.50043627637\n",
      "Run 1: log-likelihood -5906.645454104711\n",
      "Run 2: log-likelihood -5907.23392671116\n",
      "The maximum-likelihood solution for subject 5  is theta_ML = [ 51.97089424   0.00189866   0.60609708 813.29662502  59.77803584\n",
      " 133.88605985] with log-likelihood: -5906.645454104711\n",
      "Run 0: log-likelihood -6002.884049650458\n",
      "Run 1: log-likelihood -6023.2035118070235\n",
      "Run 2: log-likelihood -5932.15674803648\n",
      "The maximum-likelihood solution for subject 6  is theta_ML = [ 67.60804464   0.00250553   0.07000744 774.96807981 344.25367417\n",
      "  82.68171786] with log-likelihood: -5932.15674803648\n"
     ]
    }
   ],
   "source": [
    "print(\"part b)\")\n",
    "lower_bounds = np.array([0.001, 0, 0., 650, 0.001, 0.001])\n",
    "upper_bounds = np.array([400, 1, 1, 900, 400, 400])\n",
    "\n",
    "num_runs = 3\n",
    "\n",
    "def multioptimize(target_fun,lower_bounds,upper_bounds,plausible_lower_bounds,plausible_upper_bounds,num_runs=3,method='L-BFGS-B'):\n",
    "\t\"\"\"Simple function for multi-start optimization.\"\"\"\n",
    "\t# Run num_runs optimization runs from different starting points    \n",
    "\tnum_params = lower_bounds.shape[0]\n",
    "\ttheta_res = np.zeros((num_runs,num_params))\n",
    "\tnll_res = np.zeros(num_runs)    \n",
    "\t\n",
    "\tfor index in range(num_runs):\n",
    "\t\tif index == 0:\n",
    "\t\t\ttheta0 = 0.5*(plausible_lower_bounds + plausible_upper_bounds)\n",
    "\t\telse:\n",
    "\t\t\ttheta0 = np.random.uniform(low=plausible_lower_bounds,high=plausible_upper_bounds)\n",
    "\t\t\n",
    "\t\tif method == 'L-BFGS-B':\n",
    "\t\t\tbounds = sp.optimize.Bounds(lower_bounds,upper_bounds,True) # Set hard bounds\n",
    "\t\t\tres = sp.optimize.minimize(target_fun, theta0, method='L-BFGS-B', bounds=bounds)\n",
    "\t\t\tnll_res[index] = res.fun\n",
    "\t\t\ttheta_res[index] = res.x\n",
    "\t\telif method == 'BADS':\n",
    "\t\t\tbads = BADS(target_fun, theta0, lower_bounds, upper_bounds, plausible_lower_bounds, plausible_upper_bounds)\n",
    "\t\t\tres = bads.optimize()\n",
    "\t\t\tnll_res[index] = res.fval\n",
    "\t\t\ttheta_res[index] = res.x\n",
    "\t\telse:\n",
    "\t\t\terror('Unknown optimization method.')\n",
    "\t\tprint('Run {}: log-likelihood {}'.format(index, -nll_res[index]))\n",
    "\t\t\n",
    "\t# Pick the best solution\n",
    "\tidx_best = np.argmin(nll_res)\n",
    "\tnll_best = nll_res[idx_best]\n",
    "\ttheta_best = theta_res[idx_best]        \n",
    "\treturn nll_best,theta_best\n",
    "aic_list = list()\n",
    "for subj in np.unique(df['Subject id']):\n",
    "\ts = np.array(df['Stimulus (ms)'][(df['Subject id'] == subj) & (df['Session id'] > 1)])\n",
    "\tr = np.array(df['Response (ms)'][(df['Subject id'] == subj) & (df['Session id'] > 1)])\n",
    "\n",
    "\ttarget_fun = lambda theta_: -log_likelihood(theta_, np.column_stack((s, r)))\n",
    "\n",
    "\tnll_best,theta_best = multioptimize(\n",
    "\t\ttarget_fun\n",
    "\t\t,lower_bounds\n",
    "\t\t,upper_bounds\n",
    "\t\t,lower_bounds\n",
    "\t\t,upper_bounds\n",
    "\t\t,num_runs\n",
    "\t\t,method=method\n",
    "\t)\n",
    "\n",
    "\tprint(f\"The maximum-likelihood solution for subject {subj}  is theta_ML = {theta_best} with log-likelihood: {-nll_best}\")\n",
    "\taic_list.append(2 * 6 - 2 * (-nll_best))\n",
    "\tbic_list.append(6 * np.log(len(s)) - 2 * (-nll_best))"
   ]
  },
  {
   "cell_type": "code",
   "execution_count": 85,
   "metadata": {},
   "outputs": [
    {
     "name": "stdout",
     "output_type": "stream",
     "text": [
      "part d)\n",
      "summed aic for mismatched prior model: 82096.56584492828\n",
      "summed bic for mismatched prior model: 82277.7739113762\n"
     ]
    }
   ],
   "source": [
    "print(\"part d)\")\n",
    "print(f\"summed aic for mismatched prior model: {np.sum(aic_list)}\")\n",
    "print(f\"summed bic for mismatched prior model: {np.sum(bic_list)}\")"
   ]
  },
  {
   "cell_type": "code",
   "execution_count": 87,
   "metadata": {},
   "outputs": [],
   "source": [
    "def log_likelihood(theta, data):\n",
    "\ts = data[:, 0]\n",
    "\tr = data[:, 1]\n",
    "\tsigma, lapse, mu_s, sigma_s = theta\n",
    "\tNx = 2 ** 10 + 1\n",
    "\tlower_bound = s.min() - 5 * sigma\n",
    "\tupper_bound = s.max() + 5 * sigma\n",
    "\tx_grid = np.linspace(lower_bound, upper_bound, Nx)\n",
    "\tdx = x_grid[1].flatten() - x_grid[0].flatten()\n",
    "\t\n",
    "\n",
    "\tposterior_mean = (sigma_s**2 / (sigma**2 + sigma_s**2)) * x_grid + (sigma**2 / (sigma**2 + sigma_s**2)) * mu_s\n",
    "\tintegral = sp.integrate.romb(\n",
    "\t\tsps.norm.pdf(\n",
    "\t\t\t\tx_grid\n",
    "\t\t\t\t,s.reshape(-1, 1)\n",
    "\t\t\t\t,sigma\n",
    "\t\t\t) * sps.norm.pdf(\n",
    "\t\t\t\tr.reshape(-1, 1)\n",
    "\t\t\t\t,posterior_mean\n",
    "\t\t\t\t,sigma_motor\n",
    "\t\t), dx=dx)\n",
    "\t\n",
    "\tlikelihoods = (1 - lapse) * integral + lapse * (1 / 1500)\n",
    "\treturn np.sum(np.log(likelihoods))"
   ]
  },
  {
   "cell_type": "code",
   "execution_count": 88,
   "metadata": {},
   "outputs": [
    {
     "name": "stdout",
     "output_type": "stream",
     "text": [
      "part c)\n",
      "sanity check subject 5 log likelihood: -5950.256454262555\n"
     ]
    }
   ],
   "source": [
    "subject = 5\n",
    "s = np.array(df['Stimulus (ms)'][(df['Subject id'] == subject) & (df['Session id'] > 1)])\n",
    "r = np.array(df['Response (ms)'][(df['Subject id'] == subject) & (df['Session id'] > 1)])\n",
    "\n",
    "print(\"part c)\")\n",
    "result = log_likelihood((100, 0.01, 787.5, 128.1), np.column_stack((s, r)))\n",
    "print(\"sanity check subject 5 log likelihood:\", result)"
   ]
  },
  {
   "cell_type": "code",
   "execution_count": 95,
   "metadata": {},
   "outputs": [
    {
     "name": "stderr",
     "output_type": "stream",
     "text": [
      "/tmp/ipykernel_4013008/3609839492.py:25: RuntimeWarning: divide by zero encountered in log\n",
      "  return np.sum(np.log(likelihoods))\n"
     ]
    },
    {
     "name": "stdout",
     "output_type": "stream",
     "text": [
      "Run 0: log-likelihood -11716.016367838754\n",
      "Run 1: log-likelihood -11669.141421238648\n",
      "Run 2: log-likelihood -11624.338687099042\n",
      "The maximum-likelihood solution for subject 1  is theta_ML = [ 95.81838997   0.         787.5        128.1       ] with log-likelihood: -11624.338687099042\n",
      "Run 0: log-likelihood -5702.843759831729\n",
      "Run 1: log-likelihood -5646.249187880065\n",
      "Run 2: log-likelihood -5666.448316680093\n",
      "The maximum-likelihood solution for subject 2  is theta_ML = [ 57.45051873   0.         787.5        128.1       ] with log-likelihood: -5646.249187880065\n",
      "Run 0: log-likelihood -6199.7233595703065\n",
      "Run 1: log-likelihood -6137.264070945046\n",
      "Run 2: log-likelihood -6309.195390066335\n",
      "The maximum-likelihood solution for subject 3  is theta_ML = [107.48641423   0.00982269 787.5        128.1       ] with log-likelihood: -6137.264070945046\n",
      "Run 0: log-likelihood -6120.970936280577\n",
      "Run 1: log-likelihood -6103.817940474304\n",
      "Run 2: log-likelihood -6103.817940492742\n",
      "The maximum-likelihood solution for subject 4  is theta_ML = [152.87176673   0.00157207 787.5        128.1       ] with log-likelihood: -6103.817940474304\n",
      "Run 0: log-likelihood -5913.269617863316\n",
      "Run 1: log-likelihood -5913.269617840949\n",
      "Run 2: log-likelihood -5913.269628495707\n",
      "The maximum-likelihood solution for subject 5  is theta_ML = [ 63.91674282   0.00162411 787.5        128.1       ] with log-likelihood: -5913.269617840949\n",
      "Run 0: log-likelihood -5941.674099005908\n",
      "Run 1: log-likelihood -5941.674099030898\n",
      "Run 2: log-likelihood -5941.674099104811\n",
      "The maximum-likelihood solution for subject 6  is theta_ML = [ 88.56303148   0.00175278 787.5        128.1       ] with log-likelihood: -5941.674099005908\n"
     ]
    }
   ],
   "source": [
    "sigma_motor = 70\n",
    "\n",
    "lower_bounds = np.array([0.001, 0,  787.5, 128.1])\n",
    "upper_bounds = np.array([400, 1, 787.5, 128.1])\n",
    "\n",
    "num_runs = 3\n",
    "aic_list_ideal = list()\n",
    "bic_list_ideal = list()\n",
    "for subj in np.unique(df['Subject id']):\n",
    "\ts = np.array(df['Stimulus (ms)'][(df['Subject id'] == subj) & (df['Session id'] > 1)])\n",
    "\tr = np.array(df['Response (ms)'][(df['Subject id'] == subj) & (df['Session id'] > 1)])\n",
    "\n",
    "\ttarget_fun = lambda theta_: -log_likelihood(theta_, np.column_stack((s, r)))\n",
    "\n",
    "\tnll_best,theta_best = multioptimize(\n",
    "\t\ttarget_fun\n",
    "\t\t,lower_bounds\n",
    "\t\t,upper_bounds\n",
    "\t\t,lower_bounds\n",
    "\t\t,upper_bounds\n",
    "\t\t,num_runs\n",
    "\t\t,method=method\n",
    "\t)\n",
    "\taic_list_ideal.append(2 * 2 - 2 * (-nll_best))\n",
    "\tbic_list_ideal.append(2 * np.log(len(s)) - 2 * (-nll_best))\n",
    "\tprint(f\"The maximum-likelihood solution for subject {subj}  is theta_ML = {theta_best} with log-likelihood: {-nll_best}\")"
   ]
  },
  {
   "cell_type": "code",
   "execution_count": 96,
   "metadata": {},
   "outputs": [
    {
     "name": "stdout",
     "output_type": "stream",
     "text": [
      "part d)\n",
      "summed aic for ideal gaussian model: 82757.22720649061\n",
      "summed bic for ideal gaussian model: 82817.62989530661\n"
     ]
    }
   ],
   "source": [
    "print(\"part d)\")\n",
    "print(f\"summed aic for ideal gaussian model: {np.sum(aic_list_ideal)}\")\n",
    "print(f\"summed bic for ideal gaussian model: {np.sum(bic_list_ideal)}\")"
   ]
  },
  {
   "cell_type": "code",
   "execution_count": null,
   "metadata": {},
   "outputs": [],
   "source": [
    "np.set_printoptions(suppress=False)"
   ]
  }
 ],
 "metadata": {
  "kernelspec": {
   "display_name": "Python 3",
   "language": "python",
   "name": "python3"
  },
  "language_info": {
   "codemirror_mode": {
    "name": "ipython",
    "version": 3
   },
   "file_extension": ".py",
   "mimetype": "text/x-python",
   "name": "python",
   "nbconvert_exporter": "python",
   "pygments_lexer": "ipython3",
   "version": "3.10.12"
  }
 },
 "nbformat": 4,
 "nbformat_minor": 4
}
