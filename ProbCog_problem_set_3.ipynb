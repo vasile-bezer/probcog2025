{
 "cells": [
  {
   "cell_type": "markdown",
   "metadata": {},
   "source": [
    "University of Helsinki, Master's Programme in Data Science  \n",
    "DATA20047 Probabilistic Cognitive Modelling - Spring 2025  \n",
    "Luigi Acerbi  \n",
    "\n",
    "# Problem Set 3: Cue combination and learning as inference\n",
    "\n",
    "- This homework problem set focuses on **Week 5 and 6** of the course.\n",
    "- This problem set is worth **25 points** in total (out of 100 for the full course).\n",
    "- Check the submission deadline on Moodle!\n",
    "\n",
    "\n",
    "## Submission instructions\n",
    "\n",
    "Submission must be perfomed entirely on Moodle (**not** by email).\n",
    "1. When you have completed the exercises, save the notebook.\n",
    "2. Report your solutions and answers on Moodle (\"*Problem set 3 answer return*\").\n",
    "3. Submit two files on Moodle (\"*Problem set 3 notebook return*\"): \n",
    "  - The notebook as `.ipynb`.\n",
    "  - The same notebook downloaded as `.pdf`.\n",
    "\n",
    "#### How to save the notebook as PDF\n",
    "\n",
    "There are various ways to save the Jupyter notebook as PDF, depending on the version of Jupyter notebook you have.\n",
    "\n",
    "- In older versions, you should be able to select \"File\" > \"Print Preview\" and then print the page to PDF using your browser (remember to enter the Print Preview first).\n",
    "- In more recent versions, you can select \"File\" > \"Save and Export Notebook As\" > \"PDF\".\n",
    "  * For this to work, you may need to install [Pandoc](https://pandoc.org/installing.html) first.\n",
    "  * Compiling to PDF might take a while.\n",
    "\n",
    "## IMPORTANT\n",
    "\n",
    "1. Do not share your code and answers with others. Contrary to the class exercises, which you can do with others, these problems are *not* group work and must be done individually.\n",
    "2. It is allowed to use snippets of code from the lecture exercises and model solutions.\n",
    "3. It is your responsibility to ensure that the notebook has fully finished running all the cells, all the plots view properly etc. before submitting it. However, the notebook should be runnable from scratch if needed (\"Kernel > Restart & Run All\").\n",
    "4. Submit your work by the deadline.\n",
    "5. Unless stated otherwise, please report your numerical answers in Moodle with full numerical precision (~14-15 digits), unless the answer is an integer.\n",
    "6. If you are confused, think there is a mistake or find things too difficult, please ask on Moodle.\n",
    "\n",
    "## References\n",
    "\n",
    "- \\[**MKG23**\\] Ma WJ, Körding K, and Goldreich D. \"Bayesian Models of Perception and Action: An Introduction\". MIT Press, 2023.\n",
    "- \\[**BVK10**\\] Berniker M, Voss M, and Körding K. \"Learning Priors for Bayesian Computations in the Nervous System\". *PLoS One*, 2010. [Link](https://journals.plos.org/plosone/article?id=10.1371/journal.pone.0012686)\n",
    "\n",
    "\n",
    "#### Acknowledgements\n",
    "\n",
    "Thanks to Trevor Holland and Wei Ji Ma for sharing the audiovisual experiment data used in Question 3.1."
   ]
  },
  {
   "cell_type": "code",
   "execution_count": 1,
   "metadata": {},
   "outputs": [],
   "source": [
    "# set-up -- do not change\n",
    "import numpy as np\n",
    "import numpy.random as npr\n",
    "import scipy as sp\n",
    "import scipy.stats as sps\n",
    "import pandas as pd\n",
    "import matplotlib.pyplot as plt\n",
    "npr.seed(1)"
   ]
  },
  {
   "cell_type": "markdown",
   "metadata": {},
   "source": [
    "# Question 3.1 (6 pts)\n",
    "\n",
    "#### Cue combination with priors\n",
    "\n",
    "> This question extends the basic cue combination model to include prior beliefs, exploring a key concept from Week 5 on multisensory integration. We'll analyze how adding a prior affects both the posterior distribution and the estimate distribution in an audio-visual localization task. See Chapter 5 of [**MKG23**] and Week 5 lecture notes.\n",
    "\n",
    "We consider here the standard model of cue combination modeling an audio-visual estimation experiment like the one seen in class and represented in Figure 5.1 of \\[**MKG23**\\]. All values are measured in degrees of visual angle.\n",
    "\n",
    "- Differently from the cue combination cases we considered before, here we introduce a Gaussian prior, $p(s) = \\mathcal{N}\\left(s; \\mu_s, \\sigma_s^2 \\right)$.\n",
    "- For the rest, we assume the usual setup with two conditionally independent Gaussian measurements, $x_i \\sim \\mathcal{N}\\left(x_i | s_i, \\sigma_i^2\\right)$ for $i = 1,2$ (with audio = 1 and visual = 2).\n",
    "- As usual, we also postulate that the observer believes that $s_1 = s_2 = s$, so that their posterior is:\n",
    "$$\n",
    "p(s|x_1, x_2) \\propto p(s) p(x_1|s) p(x_2|s).\n",
    "$$\n",
    "- We ignore motor noise (i.e, $r = \\hat{s}$, or equivalently $\\sigma_\\text{motor} = 0$ deg). In other words, the estimate distribution is equivalent to the response distribution $p(\\hat{s}|s_1, s_2) = p(r|s_1, s_2)$. *Note*: This is not relevant for part a, but only for part b of this exercise.\n",
    "\n",
    "Throughout the exercise, we assume the following model parameters:\n",
    "$$\n",
    "\\mu_s = 1 \\text{ deg}, \\; \\sigma_s = 2 \\text{ deg}, \\quad \\sigma_1 = 2 \\text{ deg}, \\; \\sigma_2 = 3 \\text{ deg}.\n",
    "$$\n",
    "\n",
    "#### Tasks\n",
    "Calculate:\n",
    "- a) The observer's posterior distribution $p(s|x_1,x_2)$ for measurements $x_1 = 3, x_2 = -1$ deg. Report the posterior mean $\\mu_\\text{post}$ and standard deviation $\\sigma_\\text{post}$ in Moodle.\n",
    "- b) The observer's estimate distribution  $p(\\hat{s}|s_1, s_2)$ for $s_1 = 6, s_2 = 0$ deg. Assume they use posterior mean estimate $\\hat{s}_\\text{PM} = \\mu_\\text{post}$ (as per the model described above). Report the estimate distribution mean $\\mu_\\text{est}$ and standard deviation $\\sigma_\\text{est}$ in Moodle.\n",
    "\n",
    "#### Hints\n",
    "- Be careful that in this case (non-flat prior), the variance of the estimate distribution $\\sigma_\\text{est}^2$ is *not* equal to the posterior variance $\\sigma_\\text{post}^2$.\n",
    "- For this exercise, it might be convenient to use the precision representation from the book, using $J = \\frac{1}{\\sigma^2}$.\n",
    "- You are asked to get to the results analytically, thus report your solutions up to numerical precision. For exercise (b), simulation results within $\\pm 0.01$ from the correct solution will be accepted, but will only give half points. Numerical integration will not work for part (b)."
   ]
  },
  {
   "cell_type": "code",
   "execution_count": 2,
   "metadata": {},
   "outputs": [
    {
     "name": "stdout",
     "output_type": "stream",
     "text": [
      "part a)\n",
      "mu_post: 1.4545454545454546\n",
      "sigma_post: 1.2792042981336627\n"
     ]
    }
   ],
   "source": [
    "print(\"part a)\")\n",
    "\n",
    "mu_s = 1\n",
    "sigma_s = 2\n",
    "\n",
    "sigma_1 = 2\n",
    "sigma_2 = 3\n",
    "\n",
    "x1 = 3\n",
    "x2 = -1\n",
    "\n",
    "J_s = 1 / sigma_s ** 2\n",
    "J_1 = 1 / sigma_1 ** 2\n",
    "J_2 = 1 / sigma_2 ** 2\n",
    "\n",
    "J_tot = J_1 + J_2 + J_s\n",
    "\n",
    "sigma_post = np.sqrt(1 / J_tot)\n",
    "mu_post = sigma_post ** 2 * (J_s * mu_s + J_1 * x1 + J_2 * x2)\n",
    "\n",
    "print(f\"mu_post: {mu_post}\")\n",
    "print(f\"sigma_post: {sigma_post}\")"
   ]
  },
  {
   "cell_type": "code",
   "execution_count": 3,
   "metadata": {},
   "outputs": [
    {
     "name": "stdout",
     "output_type": "stream",
     "text": [
      "part b)\n",
      "mu_est: 2.8636363636363633\n",
      "sigma_post: 0.9833321660356333\n"
     ]
    }
   ],
   "source": [
    "print(\"part b)\")\n",
    "\n",
    "s1 = 6\n",
    "s2 = 0\n",
    "\n",
    "mu_est = (J_s * mu_s + J_1 * s1 + J_2 * s2) / J_tot\n",
    "sigma_post = np.sqrt(\n",
    "\tsigma_1**2 * (J_1 / J_tot)**2 + sigma_2**2 * (J_2/J_tot)**2\n",
    ")\n",
    "\n",
    "print(f\"mu_est: {mu_est}\")\n",
    "print(f\"sigma_post: {sigma_post}\")"
   ]
  },
  {
   "cell_type": "markdown",
   "metadata": {},
   "source": [
    "# Question 3.2 (6 pts)\n",
    "\n",
    "#### Fitting cue combination models to real data\n",
    "\n",
    "> This question applies our knowledge of cue combination models to fit real experimental data. We will work with preprocessed data from an audio-visual localization experiment where the visual stimulus has variable reliability. This problem builds on concepts from Weeks 4 and 5, including maximum likelihood estimation and model fitting. See Chapter 5.3 of [MKG23] and Week 5 lecture notes.\n",
    "\n",
    "We consider here the `simplecue` model with the following properties:\n",
    "\n",
    "- We assume an observer with a flat prior $p(s) = 1$ (i.e., \"no prior\").\n",
    "- The measurement noise for the auditory stimulus is $p(x_1|s_1) = \\mathcal{N}(x_1|s_1, \\sigma_{1}^2)$, as usual. \n",
    "- In this experiment, there are *two* possible levels for the visual noise, *low* noise (`0`) and *high* noise (`1`). Experimentally, the visual stimulus is made \"noisier\" in a trial by blurring and/or reducing the contrast the stimulus. So, the measurement noise for the visual stimulus depends on the visual noise level in the trial, such that\n",
    "  $$\\mathcal{N}(x_2|s_2, \\sigma_{2,\\text{low}}^2)  \\text{ if noise\\_level is 0,} \\qquad \\text{and} \\qquad \\mathcal{N}(x_2|s_2, \\sigma_{2,\\text{high}}^2) \\text{ if noise\\_level is 1}.$$\n",
    "- We assume that the observer is aware of the noise level in each trial.\n",
    "- As usual in simple cue combination, the observer believes that $s_1 = s_2 = s$.\n",
    "- The observer reports the posterior mean estimate $\\hat{s}_\\text{PM}$. We assume zero motor noise ($r = \\hat{s}$ and $\\sigma_\\text{motor} = 0$).\n",
    "- The model parameters are thus $\\theta = \\left(\\sigma_1, \\sigma_{2,\\text{low}}, \\sigma_{2,\\text{high}} \\right)$.\n",
    "\n",
    "#### Dataset description\n",
    "\n",
    "We analyze a dataset of audiovisual estimation data from a single subject.\n",
    "The dataset consists of a table with four columns, where each row represents a trial of the experiment. The four columns are:\n",
    "- `s1`: Auditory stimulus location (degrees).\n",
    "- `s2`: Visual stimulus location (degrees).\n",
    "- `noise_level`: Visual noise condition (0 = low, 1 = high).\n",
    "- `r`: Observer's response (degrees).\n",
    "\n",
    "#### Tasks\n",
    "Calculate:\n",
    "- a) The log-likelihood $\\log \\mathcal{L}(\\theta_0)$ of the full dataset for model parameters: $\\theta_0 = (\\sigma_1 = 4°, \\sigma_{2,\\text{low}} = 6°, \\sigma_{2,\\text{high}} = 8°)$.\n",
    "   - Report the result in Moodle.\n",
    "- b) The maximum-likelihood estimate $\\theta_\\text{MLE}$ and corresponding log-likelihood, obtained by fitting the model above to the data: $\\theta_\\text{MLE} = \\arg\\max_\\theta \\log \\mathcal{L}(\\theta)$.\n",
    "   - Report in Moodle the log-likelihood at the MLE solution.\n",
    "\n",
    "#### Key equations\n",
    "The log-likelihood for $N$ independent trials is:\n",
    "$$\\log \\mathcal{L}(\\theta) = \\sum_{i=1}^N \\log p(r_i|s_{1,i}, s_{2,i}, \\text{noise\\_level}_i; \\theta).$$\n",
    "\n",
    "#### Hints\n",
    "- For part (a), expect: $-2050 < \\log \\mathcal{L}(\\theta_0) < -2000$\n",
    "- Remember that the response distribution is Gaussian. Both the mean and variance will depend on the stimuli and the noise level."
   ]
  },
  {
   "cell_type": "code",
   "execution_count": 4,
   "metadata": {},
   "outputs": [],
   "source": [
    "# Load data of audiovisual cue combination experiment from .csv file\n",
    "df = pd.read_csv('https://raw.githubusercontent.com/lacerbi/prob-cog-mod-files/main/data/avcue_data.csv')\n",
    "df = df.to_numpy()\n",
    "s1 = df[:,0]\n",
    "s2 = df[:,1]\n",
    "noise_level = df[:,2].astype(int)\n",
    "r = df[:,3]"
   ]
  },
  {
   "cell_type": "code",
   "execution_count": 5,
   "metadata": {},
   "outputs": [],
   "source": [
    "sigma_1, sigma_2_low, sigma_2_high = 4., 6., 8.\n",
    "\n",
    "def loglike(theta, data):\n",
    "    sigma_1, sigma_2_low, sigma_2_high = theta\n",
    "    s1 = data[:, 0]\n",
    "    s2 = data[:, 1]\n",
    "    noise_level = data[:, 2].astype(int)\n",
    "    r = data[:, 3]\n",
    "    \n",
    "    sigma_2 = np.where(noise_level == 0, sigma_2_low, sigma_2_high)\n",
    "\n",
    "    J_1 = 1 / (sigma_1 ** 2)\n",
    "    J_2 = 1 / (sigma_2 ** 2)\n",
    "    \n",
    "    w1 = J_1 / (J_1 + J_2)\n",
    "    w2 = J_2 / (J_1 + J_2)\n",
    "    \n",
    "    mu_est = w1 * s1 + w2 * s2\n",
    "    \n",
    "    var_est = w1 ** 2 * sigma_1 ** 2 + w2 ** 2 * sigma_2 ** 2\n",
    "    \n",
    "    return np.sum(-0.5 * np.log(2 * np.pi * var_est) - ((r - mu_est)**2) / (2 * var_est))"
   ]
  },
  {
   "cell_type": "code",
   "execution_count": 6,
   "metadata": {},
   "outputs": [
    {
     "name": "stdout",
     "output_type": "stream",
     "text": [
      "part a)\n",
      "value of log-likelihood for theta0: -2034.6551809030655\n"
     ]
    }
   ],
   "source": [
    "print(\"part a)\")\n",
    "print(f\"value of log-likelihood for theta0: {loglike((sigma_1, sigma_2_low, sigma_2_high), np.column_stack((s1, s2, noise_level, r)))}\")"
   ]
  },
  {
   "cell_type": "code",
   "execution_count": 7,
   "metadata": {},
   "outputs": [],
   "source": [
    "try: \n",
    "    from pybads.bads import BADS\n",
    "    method = 'BADS'\n",
    "except:\n",
    "    method = 'L-BFGS-B'"
   ]
  },
  {
   "cell_type": "code",
   "execution_count": 8,
   "metadata": {},
   "outputs": [],
   "source": [
    "np.set_printoptions(suppress=True)"
   ]
  },
  {
   "cell_type": "code",
   "execution_count": 9,
   "metadata": {},
   "outputs": [
    {
     "name": "stdout",
     "output_type": "stream",
     "text": [
      "part b)\n",
      "Run 0: log-likelihood -1604.149548785196\n",
      "Run 1: log-likelihood -1604.1495487557386\n",
      "Run 2: log-likelihood -1604.1495487483655\n",
      "The maximum-likelihood solution is theta_ML = [9.23123038 4.63300733 6.78173687] with log-likelihood: -1604.1495487483655\n"
     ]
    }
   ],
   "source": [
    "print(\"part b)\")\n",
    "lower_bounds = np.array([0.001, 0.001, 0.001])\n",
    "upper_bounds = np.array([40, 40, 40])\n",
    "\n",
    "num_runs = 3\n",
    "\n",
    "def multioptimize(target_fun,lower_bounds,upper_bounds,plausible_lower_bounds,plausible_upper_bounds,num_runs=3,method='L-BFGS-B'):\n",
    "    \"\"\"Simple function for multi-start optimization.\"\"\"\n",
    "    # Run num_runs optimization runs from different starting points    \n",
    "    num_params = lower_bounds.shape[0]\n",
    "    theta_res = np.zeros((num_runs,num_params))\n",
    "    nll_res = np.zeros(num_runs)    \n",
    "    \n",
    "    for index in range(num_runs):\n",
    "        if index == 0:\n",
    "            theta0 = 0.5*(plausible_lower_bounds + plausible_upper_bounds)\n",
    "        else:\n",
    "            theta0 = np.random.uniform(low=plausible_lower_bounds,high=plausible_upper_bounds)\n",
    "        \n",
    "        if method == 'L-BFGS-B':\n",
    "            bounds = sp.optimize.Bounds(lower_bounds,upper_bounds,True) # Set hard bounds\n",
    "            res = sp.optimize.minimize(target_fun, theta0, method='L-BFGS-B', bounds=bounds)\n",
    "            nll_res[index] = res.fun\n",
    "            theta_res[index] = res.x\n",
    "        elif method == 'BADS':\n",
    "            bads = BADS(target_fun, theta0, lower_bounds, upper_bounds, plausible_lower_bounds, plausible_upper_bounds)\n",
    "            res = bads.optimize()\n",
    "            nll_res[index] = res.fval\n",
    "            theta_res[index] = res.x\n",
    "        else:\n",
    "            error('Unknown optimization method.')\n",
    "        print('Run {}: log-likelihood {}'.format(index, -nll_res[index]))\n",
    "        \n",
    "    # Pick the best solution\n",
    "    idx_best = np.argmin(nll_res)\n",
    "    nll_best = nll_res[idx_best]\n",
    "    theta_best = theta_res[idx_best]        \n",
    "    return nll_best,theta_best\n",
    "\n",
    "target_fun = lambda theta_: -loglike(theta_, np.column_stack((s1, s2, noise_level, r)))\n",
    "\n",
    "nll_best,theta_best = multioptimize(\n",
    "\ttarget_fun\n",
    "\t,lower_bounds\n",
    "\t,upper_bounds\n",
    "\t,lower_bounds\n",
    "\t,upper_bounds\n",
    "\t,num_runs\n",
    "\t,method=method\n",
    ")\n",
    "\n",
    "print(f\"The maximum-likelihood solution is theta_ML = {theta_best} with log-likelihood: {-nll_best}\")"
   ]
  },
  {
   "cell_type": "code",
   "execution_count": 10,
   "metadata": {},
   "outputs": [],
   "source": [
    "np.set_printoptions(suppress=False)"
   ]
  },
  {
   "cell_type": "markdown",
   "metadata": {},
   "source": [
    "# Question 3.3 (6 pts)\n",
    "\n",
    "#### Learning probabilities from noisy measurements\n",
    "\n",
    "> This question explores how a Bayesian observer learns the probability of binary events through sequential noisy observations. We will analyze a perceptual decision-making task inspired by real neuroscience experiments performed by humans and animals. See Week 6 lecture notes on learning and adaptation.\n",
    "\n",
    "We consider here the following decision-making task:\n",
    "\n",
    "- In each trial of the task, the observer needs to press an arrow key depending on whether they are shown a left-tilted or a right-tilted grating on a screen.\n",
    "- In each trial $i$, the grating orientation $s_i$ is either -1 (left) or 1 (right), with $p(s_i = 1|\\pi_\\text{R}) = \\pi_\\text{R}$ and $p(s_i = -1|\\pi_\\text{R}) = 1 - \\pi_\\text{R}$, where $\\pi_\\text{R} \\in (0, 1)$ is the probability of the grating being right-tilted.\n",
    "- The observer only sees a noisy measurement of orientation $x_i$, with $p(x_i|s_i) = \\mathcal{N}\\left(x_i|s_i,\\sigma^2\\right)$. In this exercise, we assume $\\sigma = 1$.\n",
    "- Assume the observer starts with a flat prior over $\\pi_\\text{R}$, that is $p(\\pi_\\text{R}) = 1$ for $\\pi_\\text{R} \\in (0, 1)$.\n",
    "\n",
    "#### Task\n",
    "\n",
    "Compute numerically the posterior $p(\\pi_\\text{R}|\\textbf{x}_\\text{obs})$ that the Bayesian observer would have after having observed the full sequence of noisy measurements $\\textbf{x}_\\text{obs} = \\left(x_1, \\ldots, x_T\\right)$ provided below (assuming no feedback is given to the subject). \n",
    "\n",
    "Report in Moodle the mean and standard deviation of the posterior over $\\pi_\\text{R}$ at the end of the last trial $T$.\n",
    "\n",
    "#### Key equations\n",
    "\n",
    "The posterior can be computed recursively: given the posterior $ p(\\pi_\\text{R}| x_1,\\ldots, x_{t-1})$ at the end of the previous trial $t-1$ (where $t = 0$ is the prior), you can compute the posterior at trial $t$ as\n",
    "$$\n",
    "p(\\pi_\\text{R} | x_1, \\ldots, x_t) \\propto p(\\pi_\\text{R}| x_1,\\ldots, x_{t-1}) \\left[ p(x_{t}| s_t = 1) p(s_{t} = 1|\\pi_\\text{R}) + p(x_{t}| s_t = -1) p(s_{t} = -1|\\pi_\\text{R})\\right],\n",
    "$$\n",
    "where all the terms are defined above. This equation allows numerical computation of the posterior.\n",
    "\n",
    "#### Notes \n",
    "- This task is inspired by experiments from the [International Brain Laboratory](https://www.internationalbrainlab.com/#home) studying decision-making in mice. Key findings show that, after training, mice adapt their responses according to changes of $\\pi_\\text{R}$ across experimental blocks. A key question is how the probability $\\pi_\\text{R}$ is represented in the mouse brain (if explicitly represented at all). For more details, see [The IBL et al. (2021)](https://elifesciences.org/articles/63711) and [Findling et al. (2023)](https://www.biorxiv.org/content/10.1101/2023.07.04.547684v5.abstract).\n",
    "- When analyzing real data we would not have access to $\\mathbf{x}_\\text{obs}$, and we would need to marginalize over it given the (known to us) sequence of stimuli, but this is not required in this exercise."
   ]
  },
  {
   "cell_type": "code",
   "execution_count": 11,
   "metadata": {},
   "outputs": [],
   "source": [
    "x_obs = np.array([ 0.82757179,  0.12214158,  1.04221375,  1.58281521, -0.10061918,\n",
    "        2.14472371,  1.90159072,  1.50249434,  1.90085595,  0.31627214,\n",
    "        0.87710977,  0.06423057,  0.73211192, -0.46964453,  0.30833925,\n",
    "        0.60324647,  0.3128273 ,  0.15479436,  0.32875387,  0.9873354 ,\n",
    "       -2.11731035, -0.7655843 ,  2.65980218,  1.74204416, -1.19183555,\n",
    "       -1.88762896,  0.25284171,  2.6924546 ,  1.05080775, -1.63699565])"
   ]
  },
  {
   "cell_type": "code",
   "execution_count": 12,
   "metadata": {},
   "outputs": [
    {
     "name": "stdout",
     "output_type": "stream",
     "text": [
      "mu_post: 0.7665041801922547\n",
      "sigma_post:  0.09999004769657394\n"
     ]
    }
   ],
   "source": [
    "sigma = 1.0\n",
    "mu_left = -1.0\n",
    "mu_right = 1.0\n",
    "\n",
    "N_pi = 2**10+1\n",
    "lower_bound = 0\n",
    "upper_bound = 1\n",
    "pi_grid = np.linspace(lower_bound, upper_bound, N_pi)\n",
    "dpi = pi_grid.flatten()[1] - pi_grid.flatten()[0]\n",
    "\n",
    "likelihoods_array_right = sps.norm.pdf(x_obs, mu_right, sigma)\n",
    "likelihoods_array_left = sps.norm.pdf(x_obs, mu_left, sigma)\n",
    "\n",
    "likelihood_pdf = pi_grid.reshape(-1, 1) * likelihoods_array_right.reshape(1, -1) + (1 - pi_grid).reshape(-1, 1) * likelihoods_array_left.reshape(1, -1)\n",
    "\n",
    "posterior_pdf = np.exp(np.sum(np.log(likelihood_pdf) ,axis = 1))\n",
    "posterior_pdf /= sp.integrate.romb(posterior_pdf, dx = dpi)\n",
    "\n",
    "mu_post = sp.integrate.romb(pi_grid * posterior_pdf, dx = dpi)\n",
    "var_post = sp.integrate.romb((pi_grid - mu_post)**2 * posterior_pdf, dx = dpi)\n",
    "\n",
    "print(f\"mu_post: {mu_post}\")\n",
    "print(f\"sigma_post:  {np.sqrt( var_post )}\")"
   ]
  },
  {
   "cell_type": "markdown",
   "metadata": {},
   "source": [
    "# Question 3.4 (7 pts)\n",
    "\n",
    "#### Learning Gaussian priors from experience\n",
    "\n",
    "> This question explores how observers might learn the parameters of a Gaussian prior through repeated exposure to stimuli. We will analyze how beliefs about both the mean and standard deviation of the stimulus distribution evolve over time. This builds on concepts from Week 6 about learning and adaptation. See Chapter 6 of [**MKG23**] and the discussion of the \"coin catching\" task in [**BVK10**].\n",
    "\n",
    "We assume that the observer is simultaneously learning both the mean $\\mu_s$ and the standard deviation $\\sigma_s$ of the prior. We denote with $q_s(s)$ the observer's prior (as opposed to the true experimental distribution of stimuli, $p_s(s)$).\n",
    "\n",
    "For example, we could consider the \"coin catching\" task of \\[**BVK10**\\] described in Week 6 and Exercise 6.2, but the details do not particularly matter. What matters is that in each trial the observer sees stimulus $s \\sim p(s) = \\mathcal{N}\\left(s| \\mu_s, \\sigma_s^2\\right)$ (we ignore measurement noise). We assume the observer learns the parameters of the distribution $p_s(s)$ over multiple trials.\n",
    "\n",
    "Assume that the observer starts with a factorized prior over $\\mu_s$ and $\\sigma_s$:\n",
    "$$\n",
    "p(\\mu_s, \\sigma_s) = p(\\mu_s) p(\\sigma_s) = \\mathcal{N}\\left(\\mu_s; 0, \\tau^2 \\right) \\frac{1}{\\tau} \\exp\\left[-\\frac{\\sigma_s}{\\tau} \\right] \\qquad \\text{ for } \\; \\sigma_s > 0,\n",
    "$$\n",
    "where $\\tau = 0.1$.\n",
    "\n",
    "Consider the sequence of stimuli $\\textbf{s} = (s_1, \\ldots, s_T)$ provided below and let's analyze what the observer would learn.\n",
    "\n",
    "### Tasks\n",
    "\n",
    "Compute the posterior $p(\\mu_s, \\sigma_s| s_1, \\ldots, s_t)$, with the simplifying assumption that the observer has direct access to $s_i$ at the end of each trial. Compute the posterior mean of the observer's prior mean $\\hat{\\mu_s}_{PM}$ and the posterior mean of the observer's prior standard deviation $\\hat{\\sigma_s}_{PM}$ as a function of trial $t$, where $t = 0$ is before the start of the experiment (prior), $t = 1$ is the end of the first trial, and so on up to $t = T$.\n",
    "\n",
    "- a) Report in Moodle the posterior means of the observer's prior parameters, $\\hat{\\mu_s}_\\text{PM}$ and $\\hat{\\sigma_s}_\\text{PM}$, after the $T$ observations.\n",
    "- b) Plot the posterior mean $\\hat{\\mu_s}_\\text{PM}$ and $\\hat{\\sigma_s}_\\text{PM}$ as a function of $t = 0, \\ldots, T$. You should see that that $\\hat{\\mu_s}_\\text{PM}$ increases with time, while $\\hat{\\sigma_s}_\\text{PM}$ has an initial spike upwards, and then decreases over time. Can you explain why? Write your answer below and report it in Moodle (max 200 words).\n",
    "\n",
    "#### Key equations\n",
    "For computing marginal posteriors:\n",
    "$$p(\\mu_s|\\mathbf{s}) = \\int p(\\mu_s,\\sigma_s|\\mathbf{s})d\\sigma_s, \\quad p(\\sigma_s|\\mathbf{s}) = \\int p(\\mu_s,\\sigma_s|\\mathbf{s})d\\mu_s$$\n",
    "These equations are useful to  compute the posterior mean of $\\mu_s$ and $\\sigma_s$.\n",
    "\n",
    "*Hints*:\n",
    "- For part (a), you will need a 2-D grid to keep track of the posterior over $\\mu_s$ and $\\sigma_s$ across iterations.\n",
    "- Since $\\sigma_s > 0$, start the grid for $\\sigma_s$ at a small nonzero value (e.g., `1e-8`).\n",
    "- For part (b), first of all look at the distribution of stimuli (i.e., mean and standard deviation of $\\mathbf{s}$). How does the distribution of stimuli relate to the prior? What happens over time as more stimuli are seen?"
   ]
  },
  {
   "cell_type": "markdown",
   "metadata": {},
   "source": [
    "### Answer\n",
    "\n",
    "The initial spike of the parameter $\\hat{\\sigma_s}_\\text{PM}$ occurs because the model is trying to account for the higher then expected variability coming from the data compared to the initial guess. As more data is processed the parameter stabilizes until convergence. If we increase the value of $\\tau$ or rearrange the dataset so that the first values are closer to the inital guess this behavior is not present. \n",
    "\n",
    "On the other hand the parameter $\\hat{\\mu_s}_\\text{PM}$ does not display a spike behavior because the data is closer to the inital preditiction at first but over time the value increases to a much larger value then predicted. Again, by rearranging the initial dataset we can again observe a spike behavior from the mean parameter but still the true value is larger and the tendency does not vary (the mean keeps increasing to converge to a large value). Increasing the value of the $\\tau$ parameter by small amounts also makes the $\\hat{\\mu_s}_\\text{PM}$ parameter spike."
   ]
  },
  {
   "cell_type": "code",
   "execution_count": 13,
   "metadata": {},
   "outputs": [],
   "source": [
    "s_t = np.array([ 0.4936518 ,  0.15823654,  0.17077424,  0.08905471,  0.37981114,\n",
    "       -0.0952308 ,  0.51172176,  0.13581896,  0.29785586,  0.21259444,\n",
    "        0.46931619, -0.05902111,  0.20163742,  0.19239185,  0.42006542,\n",
    "        0.08501631,  0.22413577,  0.11832124,  0.25633206,  0.33742228,\n",
    "        0.08490712,  0.42170856,  0.38523861,  0.32537415,  0.38512839,\n",
    "        0.14744082,  0.23156647,  0.10963458,  0.20981679,  0.32955332,\n",
    "        0.14625089,  0.19048697,  0.14692409,  0.12321915,  0.14931308,\n",
    "        0.24810031,  0.08240345,  0.28516235,  0.49897033,  0.36130662,\n",
    "        0.22122467,  0.11685566,  0.13792626,  0.50386819,  0.25762116,\n",
    "        0.15445065,  0.27863732,  0.56503827,  0.26802384,  0.34258047,\n",
    "        0.29502555,  0.19716252,  0.07862227,  0.19759859,  0.21866586,\n",
    "        0.33799348,  0.37584751,  0.38966531,  0.2928381 ,  0.38277117,\n",
    "        0.13684031,  0.43793022,  0.32693947,  0.20528607,  0.32327772,\n",
    "        0.23866424,  0.41974441,  0.47797252,  0.57783631,  0.04052555,\n",
    "        0.03338293,  0.17433012,  0.27400556,  0.38142534,  0.29734524,\n",
    "       -0.05333018,  0.2040694 ,  0.3741962 ,  0.28451421,  0.36430168,\n",
    "        0.21665078,  0.21988629,  0.27798421,  0.31150775,  0.27974496,\n",
    "        0.2678513 ,  0.14940066,  0.30663457,  0.26827319,  0.41942259,\n",
    "        0.42983768,  0.27777346,  0.19370726,  0.15419044,  0.31352415,\n",
    "        0.26160101,  0.19842195,  0.25653953,  0.15699987,  0.35470481])\n",
    "\n",
    "T = s_t.shape[0]"
   ]
  },
  {
   "cell_type": "code",
   "execution_count": 14,
   "metadata": {
    "scrolled": true
   },
   "outputs": [
    {
     "data": {
      "image/png": "[encoded data removed]",
      "text/plain": [
       "<Figure size 1000x600 with 1 Axes>"
      ]
     },
     "metadata": {},
     "output_type": "display_data"
    },
    {
     "name": "stdout",
     "output_type": "stream",
     "text": [
      "mu_post: 0.2544764224622324\n",
      "sigma_post: 0.13429039583122415\n"
     ]
    }
   ],
   "source": [
    "tau = 0.1\n",
    "\n",
    "Nm = Ns = 300\n",
    "lower_mu_s, upper_mu_s = (-1.0) * 1e-3, 1.0\n",
    "lower_sigma_s, upper_sigma_s = (1.0) * 1e-8, 1.0\n",
    "\n",
    "mu_s_row = np.linspace(lower_mu_s, upper_mu_s, Nm)\n",
    "sigma_s_row = np.linspace(lower_sigma_s, upper_sigma_s, Ns)\n",
    "dmu_s = mu_s_row.flatten()[1] - mu_s_row.flatten()[0]\n",
    "dsigma_s = sigma_s_row.flatten()[1] - sigma_s_row.flatten()[0]\n",
    "\n",
    "mu_s_grid = np.outer(np.ones(Nm), mu_s_row)\n",
    "sigma_s_grid = np.outer(sigma_s_row, np.ones(Ns))\n",
    "\n",
    "posterior_pdf = sps.norm.pdf(mu_s_grid, 0, tau) * (1/tau) * np.exp( -sigma_s_grid/tau )\n",
    "posterior_pdf /= np.sum(posterior_pdf) * dmu_s * dsigma_s # normalization\n",
    "\n",
    "mu_post_list = [np.sum(mu_s_grid * posterior_pdf) * dmu_s * dsigma_s]\n",
    "sigma_post_list = [np.sum(sigma_s_grid * posterior_pdf) * dmu_s * dsigma_s]\n",
    "\n",
    "for s in s_t:\n",
    "\tposterior_pdf *= sps.norm.pdf(s, mu_s_grid, sigma_s_grid)\n",
    "\tposterior_pdf /= np.sum(posterior_pdf) * dmu_s * dsigma_s  # normalization\n",
    "\tmu_post_list.append(np.sum(mu_s_grid * posterior_pdf) * dmu_s * dsigma_s)\n",
    "\tsigma_post_list.append(np.sum(sigma_s_grid * posterior_pdf) * dmu_s * dsigma_s)\n",
    "\n",
    "plt.figure(figsize=(10,6))\n",
    "plt.plot(range(T+1), mu_post_list, label='posterior mean')\n",
    "plt.plot(range(T+1), sigma_post_list, label='posterior std')\n",
    "plt.xlabel('t')\n",
    "plt.ylabel('parameter val')\n",
    "plt.legend()\n",
    "plt.show()\n",
    "\n",
    "print(f\"mu_post: {mu_post_list[-1]}\")\n",
    "print(f\"sigma_post: {sigma_post_list[-1]}\")"
   ]
  }
 ],
 "metadata": {
  "kernelspec": {
   "display_name": "Python 3",
   "language": "python",
   "name": "python3"
  },
  "language_info": {
   "codemirror_mode": {
    "name": "ipython",
    "version": 3
   },
   "file_extension": ".py",
   "mimetype": "text/x-python",
   "name": "python",
   "nbconvert_exporter": "python",
   "pygments_lexer": "ipython3",
   "version": "3.10.12"
  }
 },
 "nbformat": 4,
 "nbformat_minor": 4
}
